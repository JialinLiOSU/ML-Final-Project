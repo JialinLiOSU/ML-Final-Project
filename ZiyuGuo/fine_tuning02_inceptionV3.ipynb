{
  "nbformat": 4,
  "nbformat_minor": 0,
  "metadata": {
    "colab": {
      "name": "fine-tuning02.ipynb",
      "version": "0.3.2",
      "provenance": [],
      "collapsed_sections": []
    },
    "kernelspec": {
      "name": "python3",
      "display_name": "Python 3"
    },
    "accelerator": "GPU"
  },
  "cells": [
    {
      "metadata": {
        "id": "GDhDmxL3Lt-n",
        "colab_type": "code",
        "outputId": "a139a717-262c-427e-d265-f4f00c4481ae",
        "colab": {
          "base_uri": "https://localhost:8080/",
          "height": 54
        }
      },
      "cell_type": "code",
      "source": [
        "# Load the Drive helper and mount\n",
        "from google.colab import drive\n",
        "\n",
        "# This will prompt for authorization.\n",
        "drive.mount('/content/drive')"
      ],
      "execution_count": 0,
      "outputs": [
        {
          "output_type": "stream",
          "text": [
            "Drive already mounted at /content/drive; to attempt to forcibly remount, call drive.mount(\"/content/drive\", force_remount=True).\n"
          ],
          "name": "stdout"
        }
      ]
    },
    {
      "metadata": {
        "id": "co8opcXALvMM",
        "colab_type": "code",
        "colab": {}
      },
      "cell_type": "code",
      "source": [
        "!pip install -q tensorflow_hub"
      ],
      "execution_count": 0,
      "outputs": []
    },
    {
      "metadata": {
        "id": "DKykc_KVMB3W",
        "colab_type": "code",
        "outputId": "da5c319e-48fd-449b-f295-b192147c8248",
        "colab": {
          "base_uri": "https://localhost:8080/",
          "height": 88
        }
      },
      "cell_type": "code",
      "source": [
        "from __future__ import absolute_import, division, print_function\n",
        "\n",
        "import matplotlib.pylab as plt\n",
        "\n",
        "import tensorflow as tf\n",
        "import tensorflow_hub as hub\n",
        "\n",
        "from tensorflow.keras import layers\n",
        "\n",
        "tf.VERSION"
      ],
      "execution_count": 0,
      "outputs": [
        {
          "output_type": "stream",
          "text": [
            "WARNING: Logging before flag parsing goes to stderr.\n",
            "W0413 16:41:53.043297 140699097388928 __init__.py:56] Some hub symbols are not available because TensorFlow version is less than 1.14\n"
          ],
          "name": "stderr"
        },
        {
          "output_type": "execute_result",
          "data": {
            "text/plain": [
              "'1.13.1'"
            ]
          },
          "metadata": {
            "tags": []
          },
          "execution_count": 2
        }
      ]
    },
    {
      "metadata": {
        "id": "Pb9C28yILJAW",
        "colab_type": "code",
        "colab": {}
      },
      "cell_type": "code",
      "source": [
        "#Load the VGG model\n",
        "#from keras.applications import VGG16\n",
        "\n",
        "#Load the Inception-V3 model\n",
        "from keras.applications.inception_v3 import InceptionV3\n",
        "\n",
        "image_size = 299\n",
        "Inception_v3 = InceptionV3(weights='imagenet', include_top=False, input_shape=(image_size, image_size, 3))\n"
      ],
      "execution_count": 0,
      "outputs": []
    },
    {
      "metadata": {
        "id": "uTe-sD8qOVqv",
        "colab_type": "code",
        "outputId": "d16c3dc6-2cff-4091-d574-a92e4a3ac5b8",
        "colab": {
          "base_uri": "https://localhost:8080/",
          "height": 5304
        }
      },
      "cell_type": "code",
      "source": [
        "# Freeze the layers except the last 4 layers\n",
        "for layer in Inception_v3.layers[:-4]:\n",
        "    layer.trainable = False\n",
        " \n",
        "# Check the trainable status of the individual layers\n",
        "for layer in Inception_v3.layers:\n",
        "    print(layer, layer.trainable)"
      ],
      "execution_count": 0,
      "outputs": [
        {
          "output_type": "stream",
          "text": [
            "<keras.engine.input_layer.InputLayer object at 0x7ff6a1ade0b8> False\n",
            "<keras.layers.convolutional.Conv2D object at 0x7ff6a1ac9d68> False\n",
            "<keras.layers.normalization.BatchNormalization object at 0x7ff6a1b48ef0> False\n",
            "<keras.layers.core.Activation object at 0x7ff6a1b48550> False\n",
            "<keras.layers.convolutional.Conv2D object at 0x7ff6a1af1eb8> False\n",
            "<keras.layers.normalization.BatchNormalization object at 0x7ff6a1aa0dd8> False\n",
            "<keras.layers.core.Activation object at 0x7ff6a1a54630> False\n",
            "<keras.layers.convolutional.Conv2D object at 0x7ff6a19ee668> False\n",
            "<keras.layers.normalization.BatchNormalization object at 0x7ff6a195e7f0> False\n",
            "<keras.layers.core.Activation object at 0x7ff6a19147b8> False\n",
            "<keras.layers.pooling.MaxPooling2D object at 0x7ff6a18f5898> False\n",
            "<keras.layers.convolutional.Conv2D object at 0x7ff6a18d2e80> False\n",
            "<keras.layers.normalization.BatchNormalization object at 0x7ff6a1d633c8> False\n",
            "<keras.layers.core.Activation object at 0x7ff6a1d63438> False\n",
            "<keras.layers.convolutional.Conv2D object at 0x7ff6a1d6ff60> False\n",
            "<keras.layers.normalization.BatchNormalization object at 0x7ff6a1d9e400> False\n",
            "<keras.layers.core.Activation object at 0x7ff6a1d5b438> False\n",
            "<keras.layers.pooling.MaxPooling2D object at 0x7ff6a0e77390> False\n",
            "<keras.layers.convolutional.Conv2D object at 0x7ff68ef05b70> False\n",
            "<keras.layers.normalization.BatchNormalization object at 0x7ff68eed5630> False\n",
            "<keras.layers.core.Activation object at 0x7ff68eea3cf8> False\n",
            "<keras.layers.convolutional.Conv2D object at 0x7ff6a0dfe4a8> False\n",
            "<keras.layers.convolutional.Conv2D object at 0x7ff68ee476a0> False\n",
            "<keras.layers.normalization.BatchNormalization object at 0x7ff6a0e78828> False\n",
            "<keras.layers.normalization.BatchNormalization object at 0x7ff68ee02a90> False\n",
            "<keras.layers.core.Activation object at 0x7ff6a188fa90> False\n",
            "<keras.layers.core.Activation object at 0x7ff68ee3c0f0> False\n",
            "<keras.layers.pooling.AveragePooling2D object at 0x7ff68ec70b70> False\n",
            "<keras.layers.convolutional.Conv2D object at 0x7ff6a1debbe0> False\n",
            "<keras.layers.convolutional.Conv2D object at 0x7ff6a0dae908> False\n",
            "<keras.layers.convolutional.Conv2D object at 0x7ff68ed91588> False\n",
            "<keras.layers.convolutional.Conv2D object at 0x7ff68ec57a20> False\n",
            "<keras.layers.normalization.BatchNormalization object at 0x7ff6a11338d0> False\n",
            "<keras.layers.normalization.BatchNormalization object at 0x7ff6a0d7cf28> False\n",
            "<keras.layers.normalization.BatchNormalization object at 0x7ff68ed040b8> False\n",
            "<keras.layers.normalization.BatchNormalization object at 0x7ff68ebc2470> False\n",
            "<keras.layers.core.Activation object at 0x7ff6a11334a8> False\n",
            "<keras.layers.core.Activation object at 0x7ff68ef48f98> False\n",
            "<keras.layers.core.Activation object at 0x7ff68ecb2f98> False\n",
            "<keras.layers.core.Activation object at 0x7ff68eb8ecf8> False\n",
            "<keras.layers.merge.Concatenate object at 0x7ff68eb537f0> False\n",
            "<keras.layers.convolutional.Conv2D object at 0x7ff68e875278> False\n",
            "<keras.layers.normalization.BatchNormalization object at 0x7ff68e7ed518> False\n",
            "<keras.layers.core.Activation object at 0x7ff68e784ba8> False\n",
            "<keras.layers.convolutional.Conv2D object at 0x7ff68eab39b0> False\n",
            "<keras.layers.convolutional.Conv2D object at 0x7ff68e748630> False\n",
            "<keras.layers.normalization.BatchNormalization object at 0x7ff68e9c6240> False\n",
            "<keras.layers.normalization.BatchNormalization object at 0x7ff68e766b38> False\n",
            "<keras.layers.core.Activation object at 0x7ff68e9948d0> False\n",
            "<keras.layers.core.Activation object at 0x7ff68e725128> False\n",
            "<keras.layers.pooling.AveragePooling2D object at 0x7ff68e55abe0> False\n",
            "<keras.layers.convolutional.Conv2D object at 0x7ff68ebb4d30> False\n",
            "<keras.layers.convolutional.Conv2D object at 0x7ff68e910f98> False\n",
            "<keras.layers.convolutional.Conv2D object at 0x7ff68e609fd0> False\n",
            "<keras.layers.convolutional.Conv2D object at 0x7ff68e53fb00> False\n",
            "<keras.layers.normalization.BatchNormalization object at 0x7ff68eb254a8> False\n",
            "<keras.layers.normalization.BatchNormalization object at 0x7ff68e973080> False\n",
            "<keras.layers.normalization.BatchNormalization object at 0x7ff68e664080> False\n",
            "<keras.layers.normalization.BatchNormalization object at 0x7ff68e52a518> False\n",
            "<keras.layers.core.Activation object at 0x7ff68ea8d6a0> False\n",
            "<keras.layers.core.Activation object at 0x7ff68e8a6fd0> False\n",
            "<keras.layers.core.Activation object at 0x7ff68e599fd0> False\n",
            "<keras.layers.core.Activation object at 0x7ff68e4fbda0> False\n",
            "<keras.layers.merge.Concatenate object at 0x7ff68e4407f0> False\n",
            "<keras.layers.convolutional.Conv2D object at 0x7ff68e156be0> False\n",
            "<keras.layers.normalization.BatchNormalization object at 0x7ff68e1296a0> False\n",
            "<keras.layers.core.Activation object at 0x7ff68e0f8d68> False\n",
            "<keras.layers.convolutional.Conv2D object at 0x7ff68e3a6978> False\n",
            "<keras.layers.convolutional.Conv2D object at 0x7ff68e0bc5f8> False\n",
            "<keras.layers.normalization.BatchNormalization object at 0x7ff68e3384a8> False\n",
            "<keras.layers.normalization.BatchNormalization object at 0x7ff68e059b00> False\n",
            "<keras.layers.core.Activation object at 0x7ff68e288898> False\n",
            "<keras.layers.core.Activation object at 0x7ff68e016080> False\n",
            "<keras.layers.pooling.AveragePooling2D object at 0x7ff68de4fbe0> False\n",
            "<keras.layers.convolutional.Conv2D object at 0x7ff68e4a3dd8> False\n",
            "<keras.layers.convolutional.Conv2D object at 0x7ff68e205f98> False\n",
            "<keras.layers.convolutional.Conv2D object at 0x7ff68df7bf98> False\n",
            "<keras.layers.convolutional.Conv2D object at 0x7ff68deb2ac8> False\n",
            "<keras.layers.normalization.BatchNormalization object at 0x7ff68e419470> False\n",
            "<keras.layers.normalization.BatchNormalization object at 0x7ff68e267048> False\n",
            "<keras.layers.normalization.BatchNormalization object at 0x7ff68df60048> False\n",
            "<keras.layers.normalization.BatchNormalization object at 0x7ff68de1e4a8> False\n",
            "<keras.layers.core.Activation object at 0x7ff68e3826a0> False\n",
            "<keras.layers.core.Activation object at 0x7ff68e198f98> False\n",
            "<keras.layers.core.Activation object at 0x7ff68de8ef98> False\n",
            "<keras.layers.core.Activation object at 0x7ff68ddefd68> False\n",
            "<keras.layers.merge.Concatenate object at 0x7ff68ddb47b8> False\n",
            "<keras.layers.convolutional.Conv2D object at 0x7ff68dc98940> False\n",
            "<keras.layers.normalization.BatchNormalization object at 0x7ff68dc546d8> False\n",
            "<keras.layers.core.Activation object at 0x7ff68dbf8860> False\n",
            "<keras.layers.convolutional.Conv2D object at 0x7ff68db78f60> False\n",
            "<keras.layers.normalization.BatchNormalization object at 0x7ff68db5c1d0> False\n",
            "<keras.layers.core.Activation object at 0x7ff68da90cc0> False\n",
            "<keras.layers.convolutional.Conv2D object at 0x7ff68dd99da0> False\n",
            "<keras.layers.convolutional.Conv2D object at 0x7ff68da4eba8> False\n",
            "<keras.layers.normalization.BatchNormalization object at 0x7ff68dd0c470> False\n",
            "<keras.layers.normalization.BatchNormalization object at 0x7ff68da1f668> False\n",
            "<keras.layers.core.Activation object at 0x7ff68dcf6668> False\n",
            "<keras.layers.core.Activation object at 0x7ff68da00f28> False\n",
            "<keras.layers.pooling.MaxPooling2D object at 0x7ff68d9b06d8> False\n",
            "<keras.layers.merge.Concatenate object at 0x7ff68d992dd8> False\n",
            "<keras.layers.convolutional.Conv2D object at 0x7ff68cdaa6a0> False\n",
            "<keras.layers.normalization.BatchNormalization object at 0x7ff68cd44ba8> False\n",
            "<keras.layers.core.Activation object at 0x7ff68ccec7f0> False\n",
            "<keras.layers.convolutional.Conv2D object at 0x7ff68cc968d0> False\n",
            "<keras.layers.normalization.BatchNormalization object at 0x7ff68cc68da0> False\n",
            "<keras.layers.core.Activation object at 0x7ff68cb7df98> False\n",
            "<keras.layers.convolutional.Conv2D object at 0x7ff68d8bb6d8> False\n",
            "<keras.layers.convolutional.Conv2D object at 0x7ff68cb3bdd8> False\n",
            "<keras.layers.normalization.BatchNormalization object at 0x7ff68d851ba8> False\n",
            "<keras.layers.normalization.BatchNormalization object at 0x7ff68cb0c630> False\n",
            "<keras.layers.core.Activation object at 0x7ff68cff47b8> False\n",
            "<keras.layers.core.Activation object at 0x7ff68cb6eef0> False\n",
            "<keras.layers.convolutional.Conv2D object at 0x7ff68cf9d898> False\n",
            "<keras.layers.convolutional.Conv2D object at 0x7ff68ca9f668> False\n",
            "<keras.layers.normalization.BatchNormalization object at 0x7ff68cf70da0> False\n",
            "<keras.layers.normalization.BatchNormalization object at 0x7ff68ca3aba8> False\n",
            "<keras.layers.core.Activation object at 0x7ff68ce86f98> False\n",
            "<keras.layers.core.Activation object at 0x7ff68ca79080> False\n",
            "<keras.layers.pooling.AveragePooling2D object at 0x7ff68c8b2c88> False\n",
            "<keras.layers.convolutional.Conv2D object at 0x7ff68d992e80> False\n",
            "<keras.layers.convolutional.Conv2D object at 0x7ff68ce42dd8> False\n",
            "<keras.layers.convolutional.Conv2D object at 0x7ff68c95fc50> False\n",
            "<keras.layers.convolutional.Conv2D object at 0x7ff68c895b38> False\n",
            "<keras.layers.normalization.BatchNormalization object at 0x7ff68d906400> False\n",
            "<keras.layers.normalization.BatchNormalization object at 0x7ff68ce16630> False\n",
            "<keras.layers.normalization.BatchNormalization object at 0x7ff68c941c18> False\n",
            "<keras.layers.normalization.BatchNormalization object at 0x7ff68c804588> False\n",
            "<keras.layers.core.Activation object at 0x7ff68d89ecf8> False\n",
            "<keras.layers.core.Activation object at 0x7ff68ce77ef0> False\n",
            "<keras.layers.core.Activation object at 0x7ff68c8f2fd0> False\n",
            "<keras.layers.core.Activation object at 0x7ff68c7d4e10> False\n",
            "<keras.layers.merge.Concatenate object at 0x7ff68c798860> False\n",
            "<keras.layers.convolutional.Conv2D object at 0x7ff68c3896a0> False\n",
            "<keras.layers.normalization.BatchNormalization object at 0x7ff68c3a3be0> False\n",
            "<keras.layers.core.Activation object at 0x7ff68c2cb828> False\n",
            "<keras.layers.convolutional.Conv2D object at 0x7ff68c246f28> False\n",
            "<keras.layers.normalization.BatchNormalization object at 0x7ff68c2a90b8> False\n",
            "<keras.layers.core.Activation object at 0x7ff68c2fbd68> False\n",
            "<keras.layers.convolutional.Conv2D object at 0x7ff68c67c9e8> False\n",
            "<keras.layers.convolutional.Conv2D object at 0x7ff68c19ada0> False\n",
            "<keras.layers.normalization.BatchNormalization object at 0x7ff68c614278> False\n",
            "<keras.layers.normalization.BatchNormalization object at 0x7ff68c165668> False\n",
            "<keras.layers.core.Activation object at 0x7ff68c5de908> False\n",
            "<keras.layers.core.Activation object at 0x7ff68c14af28> False\n",
            "<keras.layers.convolutional.Conv2D object at 0x7ff68c560c18> False\n",
            "<keras.layers.convolutional.Conv2D object at 0x7ff68c0f26d8> False\n",
            "<keras.layers.normalization.BatchNormalization object at 0x7ff68c544be0> False\n",
            "<keras.layers.normalization.BatchNormalization object at 0x7ff68c08cbe0> False\n",
            "<keras.layers.core.Activation object at 0x7ff68c4f1f98> False\n",
            "<keras.layers.core.Activation object at 0x7ff68c0430b8> False\n",
            "<keras.layers.pooling.AveragePooling2D object at 0x7ff689c79cc0> False\n",
            "<keras.layers.convolutional.Conv2D object at 0x7ff68c7f9e48> False\n",
            "<keras.layers.convolutional.Conv2D object at 0x7ff68c4aab70> False\n",
            "<keras.layers.convolutional.Conv2D object at 0x7ff689da8c88> False\n",
            "<keras.layers.convolutional.Conv2D object at 0x7ff689cddd30> False\n",
            "<keras.layers.normalization.BatchNormalization object at 0x7ff68c76f518> False\n",
            "<keras.layers.normalization.BatchNormalization object at 0x7ff68c479668> False\n",
            "<keras.layers.normalization.BatchNormalization object at 0x7ff689d8cc50> False\n",
            "<keras.layers.normalization.BatchNormalization object at 0x7ff689c4b5c0> False\n",
            "<keras.layers.core.Activation object at 0x7ff68c6d9710> False\n",
            "<keras.layers.core.Activation object at 0x7ff68c45af28> False\n",
            "<keras.layers.core.Activation object at 0x7ff689d46b00> False\n",
            "<keras.layers.core.Activation object at 0x7ff689c1ce48> False\n",
            "<keras.layers.merge.Concatenate object at 0x7ff689be1860> False\n",
            "<keras.layers.convolutional.Conv2D object at 0x7ff6897e07f0> False\n",
            "<keras.layers.normalization.BatchNormalization object at 0x7ff6897572e8> False\n",
            "<keras.layers.core.Activation object at 0x7ff689722978> False\n",
            "<keras.layers.convolutional.Conv2D object at 0x7ff6896a0c88> False\n",
            "<keras.layers.normalization.BatchNormalization object at 0x7ff689683c50> False\n",
            "<keras.layers.core.Activation object at 0x7ff68963fb00> False\n",
            "<keras.layers.convolutional.Conv2D object at 0x7ff689ac6a20> False\n",
            "<keras.layers.convolutional.Conv2D object at 0x7ff6895f1cc0> False\n",
            "<keras.layers.normalization.BatchNormalization object at 0x7ff689a5c2e8> False\n",
            "<keras.layers.normalization.BatchNormalization object at 0x7ff6895447b8> False\n",
            "<keras.layers.core.Activation object at 0x7ff689a25978> False\n",
            "<keras.layers.core.Activation object at 0x7ff6895a76d8> False\n",
            "<keras.layers.convolutional.Conv2D object at 0x7ff6899aac88> False\n",
            "<keras.layers.convolutional.Conv2D object at 0x7ff6894dc860> False\n",
            "<keras.layers.normalization.BatchNormalization object at 0x7ff68998bc50> False\n",
            "<keras.layers.normalization.BatchNormalization object at 0x7ff6894b07b8> False\n",
            "<keras.layers.core.Activation object at 0x7ff689946b00> False\n",
            "<keras.layers.core.Activation object at 0x7ff689453438> False\n",
            "<keras.layers.pooling.AveragePooling2D object at 0x7ff6892cd588> False\n",
            "<keras.layers.convolutional.Conv2D object at 0x7ff689bc2c50> False\n",
            "<keras.layers.convolutional.Conv2D object at 0x7ff689879cc0> False\n",
            "<keras.layers.convolutional.Conv2D object at 0x7ff6893e9320> False\n",
            "<keras.layers.convolutional.Conv2D object at 0x7ff6892cd2b0> False\n",
            "<keras.layers.normalization.BatchNormalization object at 0x7ff689b36d30> False\n",
            "<keras.layers.normalization.BatchNormalization object at 0x7ff68985fd68> False\n",
            "<keras.layers.normalization.BatchNormalization object at 0x7ff68937cda0> False\n",
            "<keras.layers.normalization.BatchNormalization object at 0x7ff689240780> False\n",
            "<keras.layers.core.Activation object at 0x7ff689b21ac8> False\n",
            "<keras.layers.core.Activation object at 0x7ff6898aac18> False\n",
            "<keras.layers.core.Activation object at 0x7ff689336668> False\n",
            "<keras.layers.core.Activation object at 0x7ff6891b4d30> False\n",
            "<keras.layers.merge.Concatenate object at 0x7ff689172d68> False\n",
            "<keras.layers.convolutional.Conv2D object at 0x7ff688dd2860> False\n",
            "<keras.layers.normalization.BatchNormalization object at 0x7ff688d48c18> False\n",
            "<keras.layers.core.Activation object at 0x7ff688d12ac8> False\n",
            "<keras.layers.convolutional.Conv2D object at 0x7ff688c93eb8> False\n",
            "<keras.layers.normalization.BatchNormalization object at 0x7ff688c75da0> False\n",
            "<keras.layers.core.Activation object at 0x7ff688cb16a0> False\n",
            "<keras.layers.convolutional.Conv2D object at 0x7ff6890b4b70> False\n",
            "<keras.layers.convolutional.Conv2D object at 0x7ff688bc6588> False\n",
            "<keras.layers.normalization.BatchNormalization object at 0x7ff68904b438> False\n",
            "<keras.layers.normalization.BatchNormalization object at 0x7ff688b999e8> False\n",
            "<keras.layers.core.Activation object at 0x7ff689014ac8> False\n",
            "<keras.layers.core.Activation object at 0x7ff688b06be0> False\n",
            "<keras.layers.convolutional.Conv2D object at 0x7ff688f9ceb8> False\n",
            "<keras.layers.convolutional.Conv2D object at 0x7ff688b2edd8> False\n",
            "<keras.layers.normalization.BatchNormalization object at 0x7ff688f7dda0> False\n",
            "<keras.layers.normalization.BatchNormalization object at 0x7ff688a423c8> False\n",
            "<keras.layers.core.Activation object at 0x7ff688f35d30> False\n",
            "<keras.layers.core.Activation object at 0x7ff688aa1cf8> False\n",
            "<keras.layers.pooling.AveragePooling2D object at 0x7ff6888c16d8> False\n",
            "<keras.layers.convolutional.Conv2D object at 0x7ff6891d5160> False\n",
            "<keras.layers.convolutional.Conv2D object at 0x7ff688ece588> False\n",
            "<keras.layers.convolutional.Conv2D object at 0x7ff6889d4470> False\n",
            "<keras.layers.convolutional.Conv2D object at 0x7ff6888c1400> False\n",
            "<keras.layers.normalization.BatchNormalization object at 0x7ff6891a2e80> False\n",
            "<keras.layers.normalization.BatchNormalization object at 0x7ff688e9e9e8> False\n",
            "<keras.layers.normalization.BatchNormalization object at 0x7ff6889eeef0> False\n",
            "<keras.layers.normalization.BatchNormalization object at 0x7ff6888af1d0> False\n",
            "<keras.layers.core.Activation object at 0x7ff689143320> False\n",
            "<keras.layers.core.Activation object at 0x7ff688e3e780> False\n",
            "<keras.layers.core.Activation object at 0x7ff6889a9e80> False\n",
            "<keras.layers.core.Activation object at 0x7ff688822e80> False\n",
            "<keras.layers.merge.Concatenate object at 0x7ff6887e5c18> False\n",
            "<keras.layers.convolutional.Conv2D object at 0x7ff6885d25c0> False\n",
            "<keras.layers.normalization.BatchNormalization object at 0x7ff6885e94a8> False\n",
            "<keras.layers.core.Activation object at 0x7ff688513710> False\n",
            "<keras.layers.convolutional.Conv2D object at 0x7ff6884bc7f0> False\n",
            "<keras.layers.normalization.BatchNormalization object at 0x7ff688492b00> False\n",
            "<keras.layers.core.Activation object at 0x7ff6884b09b0> False\n",
            "<keras.layers.convolutional.Conv2D object at 0x7ff688775278> False\n",
            "<keras.layers.convolutional.Conv2D object at 0x7ff6883c4b38> False\n",
            "<keras.layers.normalization.BatchNormalization object at 0x7ff6887977f0> False\n",
            "<keras.layers.normalization.BatchNormalization object at 0x7ff68833c550> False\n",
            "<keras.layers.core.Activation object at 0x7ff6887059e8> False\n",
            "<keras.layers.core.Activation object at 0x7ff68839ae10> False\n",
            "<keras.layers.convolutional.Conv2D object at 0x7ff68872ccf8> False\n",
            "<keras.layers.convolutional.Conv2D object at 0x7ff6882ce5c0> False\n",
            "<keras.layers.normalization.BatchNormalization object at 0x7ff688641550> False\n",
            "<keras.layers.normalization.BatchNormalization object at 0x7ff6882e44a8> False\n",
            "<keras.layers.core.Activation object at 0x7ff6886a4e10> False\n",
            "<keras.layers.core.Activation object at 0x7ff6882a2128> False\n",
            "<keras.layers.pooling.MaxPooling2D object at 0x7ff68818bf60> False\n",
            "<keras.layers.merge.Concatenate object at 0x7ff6881b8f98> False\n",
            "<keras.layers.convolutional.Conv2D object at 0x7ff687dba128> False\n",
            "<keras.layers.normalization.BatchNormalization object at 0x7ff687cfbc88> False\n",
            "<keras.layers.core.Activation object at 0x7ff687cc19e8> False\n",
            "<keras.layers.convolutional.Conv2D object at 0x7ff6880c26d8> False\n",
            "<keras.layers.convolutional.Conv2D object at 0x7ff687ded0f0> False\n",
            "<keras.layers.normalization.BatchNormalization object at 0x7ff68808fda0> False\n",
            "<keras.layers.normalization.BatchNormalization object at 0x7ff687c345f8> False\n",
            "<keras.layers.core.Activation object at 0x7ff6880b1278> False\n",
            "<keras.layers.core.Activation object at 0x7ff687c95eb8> False\n",
            "<keras.layers.convolutional.Conv2D object at 0x7ff687fc8d68> False\n",
            "<keras.layers.convolutional.Conv2D object at 0x7ff687ecd550> False\n",
            "<keras.layers.convolutional.Conv2D object at 0x7ff687bc8630> False\n",
            "<keras.layers.convolutional.Conv2D object at 0x7ff687a85c18> False\n",
            "<keras.layers.pooling.AveragePooling2D object at 0x7ff6879d9da0> False\n",
            "<keras.layers.convolutional.Conv2D object at 0x7ff6881b8518> False\n",
            "<keras.layers.normalization.BatchNormalization object at 0x7ff687f38470> False\n",
            "<keras.layers.normalization.BatchNormalization object at 0x7ff687ee6f98> False\n",
            "<keras.layers.normalization.BatchNormalization object at 0x7ff687be3b70> False\n",
            "<keras.layers.normalization.BatchNormalization object at 0x7ff687ae8be0> False\n",
            "<keras.layers.convolutional.Conv2D object at 0x7ff6879bd3c8> False\n",
            "<keras.layers.normalization.BatchNormalization object at 0x7ff68811cda0> False\n",
            "<keras.layers.core.Activation object at 0x7ff687f9bda0> False\n",
            "<keras.layers.core.Activation object at 0x7ff687e0bb00> False\n",
            "<keras.layers.core.Activation object at 0x7ff687ba1128> False\n",
            "<keras.layers.core.Activation object at 0x7ff687aa4a90> False\n",
            "<keras.layers.normalization.BatchNormalization object at 0x7ff6878fe8d0> False\n",
            "<keras.layers.core.Activation object at 0x7ff68811cd30> False\n",
            "<keras.layers.merge.Concatenate object at 0x7ff687dba748> False\n",
            "<keras.layers.merge.Concatenate object at 0x7ff687a19ef0> False\n",
            "<keras.layers.core.Activation object at 0x7ff687921a20> False\n",
            "<keras.layers.merge.Concatenate object at 0x7ff6878c1550> False\n",
            "<keras.layers.convolutional.Conv2D object at 0x7ff687523978> False\n",
            "<keras.layers.normalization.BatchNormalization object at 0x7ff6874028d0> False\n",
            "<keras.layers.core.Activation object at 0x7ff68743a160> False\n",
            "<keras.layers.convolutional.Conv2D object at 0x7ff687827b00> False\n",
            "<keras.layers.convolutional.Conv2D object at 0x7ff6873d43c8> False\n",
            "<keras.layers.normalization.BatchNormalization object at 0x7ff68773c390> False\n",
            "<keras.layers.normalization.BatchNormalization object at 0x7ff6873ebe10> False\n",
            "<keras.layers.core.Activation object at 0x7ff6877079e8> False\n",
            "<keras.layers.core.Activation object at 0x7ff6873a4da0> False\n",
            "<keras.layers.convolutional.Conv2D object at 0x7ff687689d30> False\n",
            "<keras.layers.convolutional.Conv2D object at 0x7ff6875be4e0> False\n",
            "<keras.layers.convolutional.Conv2D object at 0x7ff6872bb5f8> False\n",
            "<keras.layers.convolutional.Conv2D object at 0x7ff68721eeb8> False\n",
            "<keras.layers.pooling.AveragePooling2D object at 0x7ff6871244a8> False\n",
            "<keras.layers.convolutional.Conv2D object at 0x7ff687876d30> False\n",
            "<keras.layers.normalization.BatchNormalization object at 0x7ff6876ebcf8> False\n",
            "<keras.layers.normalization.BatchNormalization object at 0x7ff6875af860> False\n",
            "<keras.layers.normalization.BatchNormalization object at 0x7ff68728da58> False\n",
            "<keras.layers.normalization.BatchNormalization object at 0x7ff6871da9e8> False\n",
            "<keras.layers.convolutional.Conv2D object at 0x7ff687124be0> False\n",
            "<keras.layers.normalization.BatchNormalization object at 0x7ff687899dd8> False\n",
            "<keras.layers.core.Activation object at 0x7ff6876a4ba8> False\n",
            "<keras.layers.core.Activation object at 0x7ff6874fbef0> False\n",
            "<keras.layers.core.Activation object at 0x7ff6872ad7f0> False\n",
            "<keras.layers.core.Activation object at 0x7ff6870feb00> False\n",
            "<keras.layers.normalization.BatchNormalization object at 0x7ff68709ee10> False\n",
            "<keras.layers.core.Activation object at 0x7ff687803ba8> False\n",
            "<keras.layers.merge.Concatenate object at 0x7ff6874c4748> True\n",
            "<keras.layers.merge.Concatenate object at 0x7ff68707cf28> True\n",
            "<keras.layers.core.Activation object at 0x7ff68709e2b0> True\n",
            "<keras.layers.merge.Concatenate object at 0x7ff686fd52b0> True\n"
          ],
          "name": "stdout"
        }
      ]
    },
    {
      "metadata": {
        "id": "lsMHm0KaObRo",
        "colab_type": "code",
        "outputId": "fd2217ad-2f0b-4bc7-ec85-1619c30e3fb2",
        "colab": {
          "base_uri": "https://localhost:8080/",
          "height": 306
        }
      },
      "cell_type": "code",
      "source": [
        "from keras import models\n",
        "from keras import layers\n",
        "from keras import optimizers\n",
        " \n",
        "# Create the model\n",
        "model = models.Sequential()\n",
        " \n",
        "# Add the vgg convolutional base model\n",
        "model.add(Inception_v3)\n",
        " \n",
        "# Add new layers\n",
        "model.add(layers.Flatten())\n",
        "model.add(layers.Dense(1024, activation='relu'))\n",
        "model.add(layers.Dropout(0.5))\n",
        "model.add(layers.Dense(4, activation='softmax'))\n",
        " \n",
        "# Show a summary of the model. Check the number of trainable parameters\n",
        "model.summary()\n"
      ],
      "execution_count": 0,
      "outputs": [
        {
          "output_type": "stream",
          "text": [
            "_________________________________________________________________\n",
            "Layer (type)                 Output Shape              Param #   \n",
            "=================================================================\n",
            "inception_v3 (Model)         (None, 8, 8, 2048)        21802784  \n",
            "_________________________________________________________________\n",
            "flatten_2 (Flatten)          (None, 131072)            0         \n",
            "_________________________________________________________________\n",
            "dense_3 (Dense)              (None, 1024)              134218752 \n",
            "_________________________________________________________________\n",
            "dropout_2 (Dropout)          (None, 1024)              0         \n",
            "_________________________________________________________________\n",
            "dense_4 (Dense)              (None, 4)                 4100      \n",
            "=================================================================\n",
            "Total params: 156,025,636\n",
            "Trainable params: 134,222,852\n",
            "Non-trainable params: 21,802,784\n",
            "_________________________________________________________________\n"
          ],
          "name": "stdout"
        }
      ]
    },
    {
      "metadata": {
        "id": "mnE7ZdAUSB1l",
        "colab_type": "code",
        "colab": {}
      },
      "cell_type": "code",
      "source": [
        "data_train= '/content/drive/My Drive/maps/train'\n",
        "data_test = '/content/drive/My Drive/maps/test'\n"
      ],
      "execution_count": 0,
      "outputs": []
    },
    {
      "metadata": {
        "id": "yLOcq81kT9bq",
        "colab_type": "code",
        "colab": {}
      },
      "cell_type": "code",
      "source": [
        "from keras.preprocessing.image import ImageDataGenerator"
      ],
      "execution_count": 0,
      "outputs": []
    },
    {
      "metadata": {
        "id": "PQc52caIOpmd",
        "colab_type": "code",
        "outputId": "51505eec-30b8-429f-e787-19deff27ccc1",
        "colab": {
          "base_uri": "https://localhost:8080/",
          "height": 68
        }
      },
      "cell_type": "code",
      "source": [
        "train_datagen = ImageDataGenerator(\n",
        "      rescale=1./255,\n",
        "      rotation_range=20,\n",
        "      width_shift_range=0.2,\n",
        "      height_shift_range=0.2,\n",
        "      horizontal_flip=True,\n",
        "      fill_mode='nearest')\n",
        " \n",
        "validation_datagen = ImageDataGenerator(rescale=1./255)\n",
        " \n",
        "# Change the batchsize according to your system RAM\n",
        "train_batchsize = 32\n",
        "val_batchsize = 32\n",
        " \n",
        "train_generator = train_datagen.flow_from_directory(\n",
        "        str(data_train),\n",
        "        target_size=(image_size, image_size),\n",
        "        batch_size=train_batchsize,\n",
        "        class_mode='categorical')\n",
        "\n",
        "for image_batch,label_batch in train_generator:\n",
        "  print(\"Image batch shape: \", image_batch.shape)\n",
        "  print(\"Labe batch shape: \", label_batch.shape)\n",
        "  break\n",
        "  \n"
      ],
      "execution_count": 0,
      "outputs": [
        {
          "output_type": "stream",
          "text": [
            "Found 360 images belonging to 4 classes.\n",
            "Image batch shape:  (32, 299, 299, 3)\n",
            "Labe batch shape:  (32, 4)\n"
          ],
          "name": "stdout"
        }
      ]
    },
    {
      "metadata": {
        "id": "a1fJICZUS3fR",
        "colab_type": "code",
        "outputId": "6f19717a-fc9f-4775-cd58-b9fa05482413",
        "colab": {
          "base_uri": "https://localhost:8080/",
          "height": 68
        }
      },
      "cell_type": "code",
      "source": [
        "test_generator = validation_datagen.flow_from_directory(\n",
        "        str(data_test),\n",
        "        target_size=(image_size, image_size),\n",
        "        batch_size=val_batchsize,\n",
        "        class_mode='categorical',\n",
        "        shuffle=False)\n",
        "for image_batch,label_batch in test_generator :\n",
        "  print(\"Image batch shape: \", image_batch.shape)\n",
        "  print(\"Labe batch shape: \", label_batch.shape)\n",
        "  break"
      ],
      "execution_count": 0,
      "outputs": [
        {
          "output_type": "stream",
          "text": [
            "Found 40 images belonging to 4 classes.\n",
            "Image batch shape:  (32, 299, 299, 3)\n",
            "Labe batch shape:  (32, 4)\n"
          ],
          "name": "stdout"
        }
      ]
    },
    {
      "metadata": {
        "id": "mzQvegDMVvjD",
        "colab_type": "code",
        "outputId": "d2b62692-265e-41b7-8001-c9bb0a40cc1d",
        "colab": {
          "base_uri": "https://localhost:8080/",
          "height": 1057
        }
      },
      "cell_type": "code",
      "source": [
        "model.compile(loss='categorical_crossentropy',\n",
        "              optimizer=optimizers.RMSprop(lr=1e-4),\n",
        "              metrics=['acc'])\n",
        "# Train the model\n",
        "history = model.fit_generator(\n",
        "      train_generator,\n",
        "      steps_per_epoch=train_generator.samples//train_generator.batch_size ,\n",
        "      epochs=30,\n",
        "      validation_data=test_generator,\n",
        "      validation_steps=test_generator.samples//test_generator.batch_size,\n",
        "      verbose=1)\n",
        " \n",
        "# Save the model\n",
        "model.save('small_last4.h5')"
      ],
      "execution_count": 0,
      "outputs": [
        {
          "output_type": "stream",
          "text": [
            "Epoch 1/30\n",
            "11/11 [==============================] - 26s 2s/step - loss: 9.7681 - acc: 0.2893 - val_loss: 16.1181 - val_acc: 0.0000e+00\n",
            "Epoch 2/30\n",
            "11/11 [==============================] - 16s 1s/step - loss: 10.4164 - acc: 0.2926 - val_loss: 7.5195 - val_acc: 0.4062\n",
            "Epoch 3/30\n",
            "11/11 [==============================] - 15s 1s/step - loss: 8.3760 - acc: 0.4143 - val_loss: 16.1181 - val_acc: 0.0000e+00\n",
            "Epoch 4/30\n",
            "11/11 [==============================] - 17s 2s/step - loss: 8.4109 - acc: 0.3965 - val_loss: 6.3116 - val_acc: 0.5312\n",
            "Epoch 5/30\n",
            "11/11 [==============================] - 15s 1s/step - loss: 8.2921 - acc: 0.3885 - val_loss: 16.1181 - val_acc: 0.0000e+00\n",
            "Epoch 6/30\n",
            "11/11 [==============================] - 17s 2s/step - loss: 7.3893 - acc: 0.4428 - val_loss: 4.5309 - val_acc: 0.5312\n",
            "Epoch 7/30\n",
            "11/11 [==============================] - 16s 1s/step - loss: 7.5980 - acc: 0.4337 - val_loss: 16.1181 - val_acc: 0.0000e+00\n",
            "Epoch 8/30\n",
            "11/11 [==============================] - 16s 1s/step - loss: 6.3599 - acc: 0.5385 - val_loss: 5.9314 - val_acc: 0.5625\n",
            "Epoch 9/30\n",
            "11/11 [==============================] - 16s 1s/step - loss: 6.4279 - acc: 0.5187 - val_loss: 16.1181 - val_acc: 0.0000e+00\n",
            "Epoch 10/30\n",
            "11/11 [==============================] - 17s 2s/step - loss: 6.6433 - acc: 0.4701 - val_loss: 6.2678 - val_acc: 0.5312\n",
            "Epoch 11/30\n",
            "11/11 [==============================] - 16s 1s/step - loss: 5.9534 - acc: 0.5486 - val_loss: 16.1181 - val_acc: 0.0000e+00\n",
            "Epoch 12/30\n",
            "11/11 [==============================] - 16s 1s/step - loss: 6.3198 - acc: 0.5379 - val_loss: 8.5435 - val_acc: 0.4062\n",
            "Epoch 13/30\n",
            "11/11 [==============================] - 16s 1s/step - loss: 5.5913 - acc: 0.6021 - val_loss: 16.1181 - val_acc: 0.0000e+00\n",
            "Epoch 14/30\n",
            "11/11 [==============================] - 18s 2s/step - loss: 5.3849 - acc: 0.6023 - val_loss: 4.4187 - val_acc: 0.5938\n",
            "Epoch 15/30\n",
            "11/11 [==============================] - 17s 2s/step - loss: 5.6065 - acc: 0.5878 - val_loss: 16.1181 - val_acc: 0.0000e+00\n",
            "Epoch 16/30\n",
            "11/11 [==============================] - 16s 1s/step - loss: 5.7163 - acc: 0.5587 - val_loss: 2.3057 - val_acc: 0.7188\n",
            "Epoch 17/30\n",
            "11/11 [==============================] - 16s 1s/step - loss: 5.8015 - acc: 0.5857 - val_loss: 16.1181 - val_acc: 0.0000e+00\n",
            "Epoch 18/30\n",
            "11/11 [==============================] - 17s 2s/step - loss: 5.0243 - acc: 0.6279 - val_loss: 5.1458 - val_acc: 0.4688\n",
            "Epoch 19/30\n",
            "11/11 [==============================] - 16s 1s/step - loss: 6.0320 - acc: 0.5709 - val_loss: 16.1181 - val_acc: 0.0000e+00\n",
            "Epoch 20/30\n",
            "11/11 [==============================] - 17s 2s/step - loss: 5.2344 - acc: 0.6143 - val_loss: 1.7928 - val_acc: 0.6875\n",
            "Epoch 21/30\n",
            "11/11 [==============================] - 16s 1s/step - loss: 5.6600 - acc: 0.5899 - val_loss: 16.1181 - val_acc: 0.0000e+00\n",
            "Epoch 22/30\n",
            "11/11 [==============================] - 17s 2s/step - loss: 4.3679 - acc: 0.6806 - val_loss: 4.3310 - val_acc: 0.6562\n",
            "Epoch 23/30\n",
            "11/11 [==============================] - 16s 1s/step - loss: 4.8164 - acc: 0.6408 - val_loss: 16.1181 - val_acc: 0.0000e+00\n",
            "Epoch 24/30\n",
            "11/11 [==============================] - 17s 2s/step - loss: 5.4933 - acc: 0.6143 - val_loss: 2.6805 - val_acc: 0.6875\n",
            "Epoch 25/30\n",
            "11/11 [==============================] - 16s 1s/step - loss: 5.5290 - acc: 0.5938 - val_loss: 16.1181 - val_acc: 0.0000e+00\n",
            "Epoch 26/30\n",
            "11/11 [==============================] - 18s 2s/step - loss: 5.0652 - acc: 0.6165 - val_loss: 4.7329 - val_acc: 0.5938\n",
            "Epoch 27/30\n",
            "11/11 [==============================] - 16s 1s/step - loss: 4.4421 - acc: 0.6957 - val_loss: 16.1181 - val_acc: 0.0000e+00\n",
            "Epoch 28/30\n",
            "11/11 [==============================] - 16s 1s/step - loss: 5.0044 - acc: 0.6336 - val_loss: 5.3649 - val_acc: 0.5938\n",
            "Epoch 29/30\n",
            "11/11 [==============================] - 16s 1s/step - loss: 4.6671 - acc: 0.6749 - val_loss: 16.1181 - val_acc: 0.0000e+00\n",
            "Epoch 30/30\n",
            "11/11 [==============================] - 17s 2s/step - loss: 4.1517 - acc: 0.7071 - val_loss: 3.1559 - val_acc: 0.7188\n"
          ],
          "name": "stdout"
        }
      ]
    },
    {
      "metadata": {
        "id": "6WR6qq5kWesm",
        "colab_type": "code",
        "outputId": "2dae0105-2dfb-43aa-854f-f8125b2dace6",
        "colab": {
          "base_uri": "https://localhost:8080/",
          "height": 545
        }
      },
      "cell_type": "code",
      "source": [
        "acc = history.history['acc']\n",
        "val_acc = history.history['val_acc']\n",
        "loss = history.history['loss']\n",
        "val_loss = history.history['val_loss']\n",
        " \n",
        "epochs = range(len(acc))\n",
        " \n",
        "plt.plot(epochs, acc, 'b', label='Training acc')\n",
        "plt.plot(epochs, val_acc, 'r', label='Validation acc')\n",
        "plt.title('Training and validation accuracy')\n",
        "plt.legend()\n",
        " \n",
        "plt.figure()\n",
        " \n",
        "plt.plot(epochs, loss, 'b', label='Training loss')\n",
        "plt.plot(epochs, val_loss, 'r', label='Validation loss')\n",
        "plt.title('Training and validation loss')\n",
        "plt.legend()\n",
        " \n",
        "plt.show()"
      ],
      "execution_count": 0,
      "outputs": [
        {
          "output_type": "display_data",
          "data": {
            "image/png": "[encoded data removed]",
            "text/plain": [
              "<Figure size 432x288 with 1 Axes>"
            ]
          },
          "metadata": {
            "tags": []
          }
        },
        {
          "output_type": "display_data",
          "data": {
            "image/png": "[encoded data removed]",
            "text/plain": [
              "<Figure size 432x288 with 1 Axes>"
            ]
          },
          "metadata": {
            "tags": []
          }
        }
      ]
    }
  ]
}